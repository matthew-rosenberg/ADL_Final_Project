{
  "nbformat": 4,
  "nbformat_minor": 0,
  "metadata": {
    "colab": {
      "name": "TfConvertToCoreML.ipynb",
      "provenance": []
    },
    "kernelspec": {
      "name": "python3",
      "display_name": "Python 3"
    },
    "accelerator": "GPU"
  },
  "cells": [
    {
      "cell_type": "code",
      "metadata": {
        "colab": {
          "base_uri": "https://localhost:8080/"
        },
        "id": "gyacNXbMZ_5V",
        "outputId": "130ca043-99b6-46cf-9a5d-8758c7190bb3"
      },
      "source": [
        "#install earlier version of coremltools that has tensorflow version to coreML\n",
        "pip install coremltools==3.2\n"
      ],
      "execution_count": null,
      "outputs": [
        {
          "output_type": "stream",
          "text": [
            "Requirement already satisfied: coremltools==3.2 in /usr/local/lib/python3.6/dist-packages (3.2)\n",
            "Requirement already satisfied: numpy>=1.14.5 in /usr/local/lib/python3.6/dist-packages (from coremltools==3.2) (1.19.4)\n",
            "Requirement already satisfied: six>=1.10.0 in /usr/local/lib/python3.6/dist-packages (from coremltools==3.2) (1.15.0)\n",
            "Requirement already satisfied: protobuf>=3.1.0 in /usr/local/lib/python3.6/dist-packages (from coremltools==3.2) (3.12.4)\n",
            "Requirement already satisfied: setuptools in /usr/local/lib/python3.6/dist-packages (from protobuf>=3.1.0->coremltools==3.2) (51.0.0)\n"
          ],
          "name": "stdout"
        }
      ]
    },
    {
      "cell_type": "code",
      "metadata": {
        "id": "ZiZqCccEZ24k"
      },
      "source": [
        "import coremltools"
      ],
      "execution_count": null,
      "outputs": []
    },
    {
      "cell_type": "code",
      "metadata": {
        "colab": {
          "base_uri": "https://localhost:8080/"
        },
        "id": "v3AJwVOcU6WK",
        "outputId": "ac1a1d4c-0ca7-4cdc-fbfe-afbcb0abcfc5"
      },
      "source": [
        "output_labels = ['Chaf-K', 'CoR_2', 'KSA', 'KVH', 'OK', 'OU', 'Star-K', 'cRc']\n",
        "#scale input by 1/255 for values [0, 1], specify to treat input as color image\n",
        "your_model = coremltools.converters.tensorflow.convert('best_model_xception_tuning.h5', input_names=['image'], output_names='output', class_labels=output_labels, image_input_names='xception_input', image_scale=1/255.0)\n",
        "your_model.save('ImageClassifier.mlmodel')"
      ],
      "execution_count": null,
      "outputs": [
        {
          "output_type": "stream",
          "text": [
            "/usr/local/lib/python3.6/dist-packages/tensorflow/python/keras/backend.py:434: UserWarning: `tf.keras.backend.set_learning_phase` is deprecated and will be removed after 2020-10-11. To update it, simply pass a True/False value to the `training` argument of the `__call__` method of your layer or model.\n",
            "  warnings.warn('`tf.keras.backend.set_learning_phase` is deprecated and '\n"
          ],
          "name": "stderr"
        },
        {
          "output_type": "stream",
          "text": [
            "0 assert nodes deleted\n",
            "236 nodes deleted\n",
            "120 nodes deleted\n",
            "0 nodes deleted\n",
            "[Op Fusion] fuse_bias_add() deleted 2 nodes.\n",
            "1 identity nodes deleted\n",
            "41 disconnected nodes deleted\n",
            "[Op Fusion] Fused 240 nodes into BatchNorms.\n",
            "[SSAConverter] Converting function main ...\n",
            "[SSAConverter] [1/206] Converting op type: 'Placeholder', name: 'xception_input', output_shape: (-1, 299, 299, 3).\n",
            "[SSAConverter] [2/206] Converting op type: 'Const', name: 'sequential_4/xception/block2_sepconv1/separable_conv2d/ReadVariableOp', output_shape: (3, 3, 64, 1).\n",
            "[SSAConverter] [3/206] Converting op type: 'Const', name: 'sequential_4/xception/block2_sepconv2/separable_conv2d/ReadVariableOp', output_shape: (3, 3, 128, 1).\n",
            "[SSAConverter] [4/206] Converting op type: 'Const', name: 'sequential_4/xception/block3_sepconv1/separable_conv2d/ReadVariableOp', output_shape: (3, 3, 128, 1).\n",
            "[SSAConverter] [5/206] Converting op type: 'Const', name: 'sequential_4/xception/block3_sepconv2/separable_conv2d/ReadVariableOp', output_shape: (3, 3, 256, 1).\n",
            "[SSAConverter] [6/206] Converting op type: 'Const', name: 'sequential_4/xception/block4_sepconv1/separable_conv2d/ReadVariableOp', output_shape: (3, 3, 256, 1).\n",
            "[SSAConverter] [7/206] Converting op type: 'Const', name: 'sequential_4/xception/block4_sepconv2/separable_conv2d/ReadVariableOp', output_shape: (3, 3, 728, 1).\n",
            "[SSAConverter] [8/206] Converting op type: 'Const', name: 'sequential_4/xception/block5_sepconv1/separable_conv2d/ReadVariableOp', output_shape: (3, 3, 728, 1).\n",
            "[SSAConverter] [9/206] Converting op type: 'Const', name: 'sequential_4/xception/block5_sepconv2/separable_conv2d/ReadVariableOp', output_shape: (3, 3, 728, 1).\n",
            "[SSAConverter] [10/206] Converting op type: 'Const', name: 'sequential_4/xception/block5_sepconv3/separable_conv2d/ReadVariableOp', output_shape: (3, 3, 728, 1).\n",
            "[SSAConverter] [11/206] Converting op type: 'Const', name: 'sequential_4/xception/block6_sepconv1/separable_conv2d/ReadVariableOp', output_shape: (3, 3, 728, 1).\n",
            "[SSAConverter] [12/206] Converting op type: 'Const', name: 'sequential_4/xception/block6_sepconv2/separable_conv2d/ReadVariableOp', output_shape: (3, 3, 728, 1).\n",
            "[SSAConverter] [13/206] Converting op type: 'Const', name: 'sequential_4/xception/block6_sepconv3/separable_conv2d/ReadVariableOp', output_shape: (3, 3, 728, 1).\n",
            "[SSAConverter] [14/206] Converting op type: 'Const', name: 'sequential_4/xception/block7_sepconv1/separable_conv2d/ReadVariableOp', output_shape: (3, 3, 728, 1).\n",
            "[SSAConverter] [15/206] Converting op type: 'Const', name: 'sequential_4/xception/block7_sepconv2/separable_conv2d/ReadVariableOp', output_shape: (3, 3, 728, 1).\n",
            "[SSAConverter] [16/206] Converting op type: 'Const', name: 'sequential_4/xception/block7_sepconv3/separable_conv2d/ReadVariableOp', output_shape: (3, 3, 728, 1).\n",
            "[SSAConverter] [17/206] Converting op type: 'Const', name: 'sequential_4/xception/block8_sepconv1/separable_conv2d/ReadVariableOp', output_shape: (3, 3, 728, 1).\n",
            "[SSAConverter] [18/206] Converting op type: 'Const', name: 'sequential_4/xception/block8_sepconv2/separable_conv2d/ReadVariableOp', output_shape: (3, 3, 728, 1).\n",
            "[SSAConverter] [19/206] Converting op type: 'Const', name: 'sequential_4/xception/block8_sepconv3/separable_conv2d/ReadVariableOp', output_shape: (3, 3, 728, 1).\n",
            "[SSAConverter] [20/206] Converting op type: 'Const', name: 'sequential_4/xception/block9_sepconv1/separable_conv2d/ReadVariableOp', output_shape: (3, 3, 728, 1).\n",
            "[SSAConverter] [21/206] Converting op type: 'Const', name: 'sequential_4/xception/block9_sepconv2/separable_conv2d/ReadVariableOp', output_shape: (3, 3, 728, 1).\n",
            "[SSAConverter] [22/206] Converting op type: 'Const', name: 'sequential_4/xception/block9_sepconv3/separable_conv2d/ReadVariableOp', output_shape: (3, 3, 728, 1).\n",
            "[SSAConverter] [23/206] Converting op type: 'Const', name: 'sequential_4/xception/block10_sepconv1/separable_conv2d/ReadVariableOp', output_shape: (3, 3, 728, 1).\n",
            "[SSAConverter] [24/206] Converting op type: 'Const', name: 'sequential_4/xception/block10_sepconv2/separable_conv2d/ReadVariableOp', output_shape: (3, 3, 728, 1).\n",
            "[SSAConverter] [25/206] Converting op type: 'Const', name: 'sequential_4/xception/block10_sepconv3/separable_conv2d/ReadVariableOp', output_shape: (3, 3, 728, 1).\n",
            "[SSAConverter] [26/206] Converting op type: 'Const', name: 'sequential_4/xception/block11_sepconv1/separable_conv2d/ReadVariableOp', output_shape: (3, 3, 728, 1).\n",
            "[SSAConverter] [27/206] Converting op type: 'Const', name: 'sequential_4/xception/block11_sepconv2/separable_conv2d/ReadVariableOp', output_shape: (3, 3, 728, 1).\n",
            "[SSAConverter] [28/206] Converting op type: 'Const', name: 'sequential_4/xception/block11_sepconv3/separable_conv2d/ReadVariableOp', output_shape: (3, 3, 728, 1).\n",
            "[SSAConverter] [29/206] Converting op type: 'Const', name: 'sequential_4/xception/block12_sepconv1/separable_conv2d/ReadVariableOp', output_shape: (3, 3, 728, 1).\n",
            "[SSAConverter] [30/206] Converting op type: 'Const', name: 'sequential_4/xception/block12_sepconv2/separable_conv2d/ReadVariableOp', output_shape: (3, 3, 728, 1).\n",
            "[SSAConverter] [31/206] Converting op type: 'Const', name: 'sequential_4/xception/block12_sepconv3/separable_conv2d/ReadVariableOp', output_shape: (3, 3, 728, 1).\n",
            "[SSAConverter] [32/206] Converting op type: 'Const', name: 'sequential_4/xception/block13_sepconv1/separable_conv2d/ReadVariableOp', output_shape: (3, 3, 728, 1).\n",
            "[SSAConverter] [33/206] Converting op type: 'Const', name: 'sequential_4/xception/block13_sepconv2/separable_conv2d/ReadVariableOp', output_shape: (3, 3, 728, 1).\n",
            "[SSAConverter] [34/206] Converting op type: 'Const', name: 'sequential_4/xception/block14_sepconv1/separable_conv2d/ReadVariableOp', output_shape: (3, 3, 1024, 1).\n",
            "[SSAConverter] [35/206] Converting op type: 'Const', name: 'sequential_4/xception/block14_sepconv2/separable_conv2d/ReadVariableOp', output_shape: (3, 3, 1536, 1).\n",
            "[SSAConverter] [36/206] Converting op type: 'Const', name: 'sequential_4/global_average_pooling2d_1/Mean/reduction_indices', output_shape: (2,).\n",
            "[SSAConverter] [37/206] Converting op type: 'Transpose', name: 'xception_input_to_nchw', output_shape: (-1, 3, 299, 299).\n",
            "[SSAConverter] [38/206] Converting op type: 'Conv2D', name: 'sequential_4/xception/block1_conv1/Conv2D', output_shape: (-1, 32, 149, 149).\n",
            "[SSAConverter] [39/206] Converting op type: 'BatchNorm', name: 'sequential_4/xception/block1_conv1_bn/FusedBatchNormV3/Add_batch_norm', output_shape: (-1, 32, 149, 149).\n",
            "[SSAConverter] [40/206] Converting op type: 'Relu', name: 'sequential_4/xception/block1_conv1_act/Relu', output_shape: (-1, 32, 149, 149).\n",
            "[SSAConverter] [41/206] Converting op type: 'Conv2D', name: 'sequential_4/xception/block1_conv2/Conv2D', output_shape: (-1, 64, 147, 147).\n",
            "[SSAConverter] [42/206] Converting op type: 'BatchNorm', name: 'sequential_4/xception/block1_conv2_bn/FusedBatchNormV3/Add_batch_norm', output_shape: (-1, 64, 147, 147).\n",
            "[SSAConverter] [43/206] Converting op type: 'Relu', name: 'sequential_4/xception/block1_conv2_act/Relu', output_shape: (-1, 64, 147, 147).\n",
            "[SSAConverter] [44/206] Converting op type: 'DepthwiseConv2dNative', name: 'sequential_4/xception/block2_sepconv1/separable_conv2d/depthwise', output_shape: (-1, 64, 147, 147).\n",
            "[SSAConverter] [45/206] Converting op type: 'Conv2D', name: 'sequential_4/xception/conv2d_8/Conv2D', output_shape: (-1, 128, -1, -1).\n",
            "[SSAConverter] [46/206] Converting op type: 'Conv2D', name: 'sequential_4/xception/block2_sepconv1/separable_conv2d', output_shape: (-1, 128, 147, 147).\n",
            "[SSAConverter] [47/206] Converting op type: 'BatchNorm', name: 'sequential_4/xception/batch_normalization_4/FusedBatchNormV3/Add_batch_norm', output_shape: (-1, 128, -1, -1).\n",
            "[SSAConverter] [48/206] Converting op type: 'BatchNorm', name: 'sequential_4/xception/block2_sepconv1_bn/FusedBatchNormV3/Add_batch_norm', output_shape: (-1, 128, 147, 147).\n",
            "[SSAConverter] [49/206] Converting op type: 'Relu', name: 'sequential_4/xception/block2_sepconv2_act/Relu', output_shape: (-1, 128, 147, 147).\n",
            "[SSAConverter] [50/206] Converting op type: 'DepthwiseConv2dNative', name: 'sequential_4/xception/block2_sepconv2/separable_conv2d/depthwise', output_shape: (-1, 128, 147, 147).\n",
            "[SSAConverter] [51/206] Converting op type: 'Conv2D', name: 'sequential_4/xception/block2_sepconv2/separable_conv2d', output_shape: (-1, 128, 147, 147).\n",
            "[SSAConverter] [52/206] Converting op type: 'BatchNorm', name: 'sequential_4/xception/block2_sepconv2_bn/FusedBatchNormV3/Add_batch_norm', output_shape: (-1, 128, 147, 147).\n",
            "[SSAConverter] [53/206] Converting op type: 'MaxPool', name: 'sequential_4/xception/block2_pool/MaxPool', output_shape: (-1, 128, -1, -1).\n",
            "[SSAConverter] [54/206] Converting op type: 'AddV2', name: 'sequential_4/xception/add_12/add', output_shape: (-1, 128, -1, -1).\n",
            "[SSAConverter] [55/206] Converting op type: 'Relu', name: 'sequential_4/xception/block3_sepconv1_act/Relu', output_shape: (-1, 128, -1, -1).\n",
            "[SSAConverter] [56/206] Converting op type: 'Conv2D', name: 'sequential_4/xception/conv2d_9/Conv2D', output_shape: (-1, 256, -1, -1).\n",
            "[SSAConverter] [57/206] Converting op type: 'DepthwiseConv2dNative', name: 'sequential_4/xception/block3_sepconv1/separable_conv2d/depthwise', output_shape: (-1, 128, -1, -1).\n",
            "[SSAConverter] [58/206] Converting op type: 'BatchNorm', name: 'sequential_4/xception/batch_normalization_5/FusedBatchNormV3/Add_batch_norm', output_shape: (-1, 256, -1, -1).\n",
            "[SSAConverter] [59/206] Converting op type: 'Conv2D', name: 'sequential_4/xception/block3_sepconv1/separable_conv2d', output_shape: (-1, 256, -1, -1).\n",
            "[SSAConverter] [60/206] Converting op type: 'BatchNorm', name: 'sequential_4/xception/block3_sepconv1_bn/FusedBatchNormV3/Add_batch_norm', output_shape: (-1, 256, -1, -1).\n",
            "[SSAConverter] [61/206] Converting op type: 'Relu', name: 'sequential_4/xception/block3_sepconv2_act/Relu', output_shape: (-1, 256, -1, -1).\n",
            "[SSAConverter] [62/206] Converting op type: 'DepthwiseConv2dNative', name: 'sequential_4/xception/block3_sepconv2/separable_conv2d/depthwise', output_shape: (-1, 256, -1, -1).\n",
            "[SSAConverter] [63/206] Converting op type: 'Conv2D', name: 'sequential_4/xception/block3_sepconv2/separable_conv2d', output_shape: (-1, 256, -1, -1).\n",
            "[SSAConverter] [64/206] Converting op type: 'BatchNorm', name: 'sequential_4/xception/block3_sepconv2_bn/FusedBatchNormV3/Add_batch_norm', output_shape: (-1, 256, -1, -1).\n",
            "[SSAConverter] [65/206] Converting op type: 'MaxPool', name: 'sequential_4/xception/block3_pool/MaxPool', output_shape: (-1, 256, -1, -1).\n",
            "[SSAConverter] [66/206] Converting op type: 'AddV2', name: 'sequential_4/xception/add_13/add', output_shape: (-1, 256, -1, -1).\n",
            "[SSAConverter] [67/206] Converting op type: 'Relu', name: 'sequential_4/xception/block4_sepconv1_act/Relu', output_shape: (-1, 256, -1, -1).\n",
            "[SSAConverter] [68/206] Converting op type: 'Conv2D', name: 'sequential_4/xception/conv2d_10/Conv2D', output_shape: (-1, 728, -1, -1).\n",
            "[SSAConverter] [69/206] Converting op type: 'DepthwiseConv2dNative', name: 'sequential_4/xception/block4_sepconv1/separable_conv2d/depthwise', output_shape: (-1, 256, -1, -1).\n",
            "[SSAConverter] [70/206] Converting op type: 'BatchNorm', name: 'sequential_4/xception/batch_normalization_6/FusedBatchNormV3/Add_batch_norm', output_shape: (-1, 728, -1, -1).\n",
            "[SSAConverter] [71/206] Converting op type: 'Conv2D', name: 'sequential_4/xception/block4_sepconv1/separable_conv2d', output_shape: (-1, 728, -1, -1).\n",
            "[SSAConverter] [72/206] Converting op type: 'BatchNorm', name: 'sequential_4/xception/block4_sepconv1_bn/FusedBatchNormV3/Add_batch_norm', output_shape: (-1, 728, -1, -1).\n",
            "[SSAConverter] [73/206] Converting op type: 'Relu', name: 'sequential_4/xception/block4_sepconv2_act/Relu', output_shape: (-1, 728, -1, -1).\n",
            "[SSAConverter] [74/206] Converting op type: 'DepthwiseConv2dNative', name: 'sequential_4/xception/block4_sepconv2/separable_conv2d/depthwise', output_shape: (-1, 728, -1, -1).\n",
            "[SSAConverter] [75/206] Converting op type: 'Conv2D', name: 'sequential_4/xception/block4_sepconv2/separable_conv2d', output_shape: (-1, 728, -1, -1).\n",
            "[SSAConverter] [76/206] Converting op type: 'BatchNorm', name: 'sequential_4/xception/block4_sepconv2_bn/FusedBatchNormV3/Add_batch_norm', output_shape: (-1, 728, -1, -1).\n",
            "[SSAConverter] [77/206] Converting op type: 'MaxPool', name: 'sequential_4/xception/block4_pool/MaxPool', output_shape: (-1, 728, -1, -1).\n",
            "[SSAConverter] [78/206] Converting op type: 'AddV2', name: 'sequential_4/xception/add_14/add', output_shape: (-1, 728, -1, -1).\n",
            "[SSAConverter] [79/206] Converting op type: 'Relu', name: 'sequential_4/xception/block5_sepconv1_act/Relu', output_shape: (-1, 728, -1, -1).\n",
            "[SSAConverter] [80/206] Converting op type: 'DepthwiseConv2dNative', name: 'sequential_4/xception/block5_sepconv1/separable_conv2d/depthwise', output_shape: (-1, 728, -1, -1).\n",
            "[SSAConverter] [81/206] Converting op type: 'Conv2D', name: 'sequential_4/xception/block5_sepconv1/separable_conv2d', output_shape: (-1, 728, -1, -1).\n",
            "[SSAConverter] [82/206] Converting op type: 'BatchNorm', name: 'sequential_4/xception/block5_sepconv1_bn/FusedBatchNormV3/Add_batch_norm', output_shape: (-1, 728, -1, -1).\n",
            "[SSAConverter] [83/206] Converting op type: 'Relu', name: 'sequential_4/xception/block5_sepconv2_act/Relu', output_shape: (-1, 728, -1, -1).\n",
            "[SSAConverter] [84/206] Converting op type: 'DepthwiseConv2dNative', name: 'sequential_4/xception/block5_sepconv2/separable_conv2d/depthwise', output_shape: (-1, 728, -1, -1).\n",
            "[SSAConverter] [85/206] Converting op type: 'Conv2D', name: 'sequential_4/xception/block5_sepconv2/separable_conv2d', output_shape: (-1, 728, -1, -1).\n"
          ],
          "name": "stdout"
        }
      ]
    }
  ]
}